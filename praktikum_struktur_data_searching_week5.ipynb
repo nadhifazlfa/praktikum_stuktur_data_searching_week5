{
  "nbformat": 4,
  "nbformat_minor": 0,
  "metadata": {
    "colab": {
      "provenance": []
    },
    "kernelspec": {
      "name": "python3",
      "display_name": "Python 3"
    },
    "language_info": {
      "name": "python"
    }
  },
  "cells": [
    {
      "cell_type": "code",
      "execution_count": null,
      "metadata": {
        "colab": {
          "base_uri": "https://localhost:8080/"
        },
        "id": "XmVTkHKKN8IW",
        "outputId": "d3f66b55-fabd-4334-b541-97dda0951388"
      },
      "outputs": [
        {
          "output_type": "stream",
          "name": "stdout",
          "text": [
            "Masukkan 3 digit terakhir NPM Anda: 012\n",
            "Elemen ditemukan pada indeks 0\n"
          ]
        }
      ],
      "source": [
        "def linear_search(arr, target):\n",
        "    for i in range(len(arr)):\n",
        "        if arr[i] == target:\n",
        "            return i\n",
        "    return -1\n",
        "\n",
        "# Gantilah dengan angka acak dan NPM Anda\n",
        "arr = [12, 45, 78, 23, 56, 89, 34, 67, 90, 11]\n",
        "target = int(input(\"Masukkan 3 digit terakhir NPM Anda: \"))\n",
        "\n",
        "result = linear_search(arr, target)\n",
        "\n",
        "if result != -1:\n",
        "   print(f\"Elemen ditemukan pada indeks {result}\")\n",
        "else:\n",
        "   print(\"Elemen tidak ditemukan\")\n"
      ]
    },
    {
      "cell_type": "code",
      "source": [
        "def binary_search(arr, target):\n",
        "    low = 0\n",
        "    high = len(arr) -1\n",
        "\n",
        "    while low <= high:\n",
        "        mid = (low + high) // 2\n",
        "        if arr[mid] == target:\n",
        "             return mid\n",
        "        elif arr[mid] < target:\n",
        "             low = mid + 1\n",
        "        else:\n",
        "             high = mid -1\n",
        "\n",
        "    return -1\n",
        "\n",
        "# Gantilah dengan angka terurut dan tanggal lahir Anda (DDMM)\n",
        "arr = [1010, 1202, 1405, 1707, 2508, 3009, 311, 2412]\n",
        "target = int(input(\"Masukkan tanggal lahir Anda (DDMM): \"))\n",
        "\n",
        "result = binary_search(arr, target)\n",
        "\n",
        "if result != -1:\n",
        "  print(f\"Elemen ditemukan pada indeks {result}\")\n",
        "else:\n",
        "  print(\"Elemen tidak ditemukan\")"
      ],
      "metadata": {
        "colab": {
          "base_uri": "https://localhost:8080/"
        },
        "id": "Ns5tL9PxWRWe",
        "outputId": "878e746c-617d-47d8-986b-903bc9dc3b87"
      },
      "execution_count": null,
      "outputs": [
        {
          "output_type": "stream",
          "name": "stdout",
          "text": [
            "Masukkan tanggal lahir Anda (DDMM): 1201\n",
            "Elemen tidak ditemukan\n"
          ]
        }
      ]
    },
    {
      "cell_type": "code",
      "source": [
        "import math\n",
        "\n",
        "def jump_search(arr, target):\n",
        "    n = len(arr)\n",
        "    step = int(math.sqrt(n))\n",
        "    prev = 0\n",
        "\n",
        "    while arr[min(step, n) -1] < target:\n",
        "        prev = step\n",
        "        step += int(math.sqrt(n))\n",
        "        if prev >= n:\n",
        "           return i\n",
        "\n",
        "    return -1\n",
        "\n",
        "# Gantilah dengan daftar nama teman-teman Anda dalam urutan alfabet\n",
        "arr = [\"Aldo\", \"Budi\", \"Dewi\", \"Fajar\", \"Gita\", \"Indra\", \"Rina\", \"Tono\"]\n",
        "target = input(\"Masukkan inisial nama Anda: \")\n",
        "\n",
        "result = jump_search(arr, target)\n",
        "\n",
        "if result != -1:\n",
        "   print(f\"Elemen ditemukan pada indeks {result}\")\n",
        "else:\n",
        "  print(\"Elemen tidak ditemukan\")"
      ],
      "metadata": {
        "colab": {
          "base_uri": "https://localhost:8080/"
        },
        "id": "Oa2EqhPZYcyd",
        "outputId": "51e2f8b5-2450-4f14-ed22-2d5d217da1bb"
      },
      "execution_count": null,
      "outputs": [
        {
          "output_type": "stream",
          "name": "stdout",
          "text": [
            "Masukkan inisial nama Anda: N\n",
            "Elemen tidak ditemukan\n"
          ]
        }
      ]
    },
    {
      "cell_type": "code",
      "source": [
        "# Latihan / Tugas\n",
        "\n",
        "import random\n",
        "import math\n",
        "from tabulate import tabulate\n",
        "\n",
        "# Fungsi Linear Search\n",
        "def LinearSearch(arr, target):\n",
        "    comparisons = 0\n",
        "\n",
        "    for i in range(len(arr)):\n",
        "        comparisons += 1\n",
        "        if arr[i] == target:\n",
        "            return i, comparisons\n",
        "    return -1, comparisons\n",
        "\n",
        "# Fungsi Binary Search\n",
        "def BinarySearch(arr, target):\n",
        "    low = 0\n",
        "    high = len(arr) - 1\n",
        "    comparisons = 0\n",
        "\n",
        "    while low <= high:\n",
        "        mid = (low + high) // 2\n",
        "        comparisons += 1\n",
        "        if arr[mid] == target:\n",
        "            return mid, comparisons\n",
        "        elif arr[mid] < target:\n",
        "            low = mid + 1\n",
        "        else:\n",
        "            high = mid - 1\n",
        "    return -1, comparisons\n",
        "\n",
        "\n",
        "# Fungsi Jump Search\n",
        "def JumpSearch(arr, target):\n",
        "    n = len(arr)\n",
        "    step = int(math.sqrt(n))\n",
        "    prev = 0\n",
        "    comparisons = 0\n",
        "\n",
        "    while arr[min(step,n) - 1] < target:\n",
        "        comparisons += 1\n",
        "        prev = step\n",
        "        step += int(math.sqrt(n))\n",
        "        if prev >= n:\n",
        "            return -1, comparisons\n",
        "\n",
        "    for i in range(prev, min(step, n)):\n",
        "        comparisons += 1\n",
        "        if arr[i] == target:\n",
        "            return i, comparisons\n",
        "    return -1, comparisons\n",
        "\n",
        "# Membuat array dengan elemen 100 angka acak yang terurut\n",
        "arr = sorted(random.sample(range(1, 1001), 100))\n",
        "print(f\"Array: {arr}\\n\")\n",
        "\n",
        "# Mencari elemen tengah dalam array\n",
        "target = arr[len(arr) // 2]\n",
        "print(f\"Elemen tengah yang di cari: {target}\")\n",
        "\n",
        "linearsearch_result = LinearSearch(arr, target)\n",
        "binarysearch_result = BinarySearch(arr, target)\n",
        "jumpsearch_result = JumpSearch(arr, target)\n",
        "\n",
        "# Tabel hasil perbandingan pencarian elemen menggunakan 3 algoritma\n",
        "results = [\n",
        "    [\"Linear Search\", linearsearch_result[1]],\n",
        "    [\"Binary Search\", binarysearch_result[1]],\n",
        "    [\"Jump Search\", jumpsearch_result[1]]\n",
        "]\n",
        "\n",
        "print(tabulate(results, headers = [\"  Algoritma Pencarian\", \"Jumlah Perbandingan\"], tablefmt = \"fancy_grid\", colalign = (\"left\", \"center\")))\n"
      ],
      "metadata": {
        "colab": {
          "base_uri": "https://localhost:8080/"
        },
        "id": "dlITyWNZ_JGv",
        "outputId": "f696d58f-ac63-4c12-87e6-6b251f83ccc3"
      },
      "execution_count": 2,
      "outputs": [
        {
          "output_type": "stream",
          "name": "stdout",
          "text": [
            "Array: [6, 12, 17, 22, 42, 59, 82, 90, 98, 104, 105, 116, 126, 129, 160, 164, 184, 221, 226, 228, 238, 241, 252, 267, 275, 278, 280, 283, 289, 292, 293, 299, 313, 330, 332, 335, 349, 350, 376, 382, 389, 400, 412, 413, 440, 461, 465, 467, 484, 492, 499, 500, 509, 520, 521, 527, 531, 553, 566, 576, 579, 588, 589, 604, 620, 636, 642, 653, 663, 682, 683, 693, 696, 716, 726, 739, 765, 769, 775, 799, 802, 803, 809, 811, 826, 830, 832, 847, 851, 860, 870, 884, 890, 918, 928, 947, 949, 957, 975, 986]\n",
            "\n",
            "Elemen tengah yang di cari: 499\n",
            "╒═════════════════════════╤═══════════════════════╕\n",
            "│   Algoritma Pencarian   │  Jumlah Perbandingan  │\n",
            "╞═════════════════════════╪═══════════════════════╡\n",
            "│ Linear Search           │          51           │\n",
            "├─────────────────────────┼───────────────────────┤\n",
            "│ Binary Search           │           6           │\n",
            "├─────────────────────────┼───────────────────────┤\n",
            "│ Jump Search             │           6           │\n",
            "╘═════════════════════════╧═══════════════════════╛\n"
          ]
        }
      ]
    }
  ]
}